{
 "cells": [
  {
   "cell_type": "markdown",
   "metadata": {},
   "source": [
    "<h1>UI to Semantic Hierarchie</h1>\n",
    "\n",
    "<p style=\"font-size:12pt\">In this notebook we create a machine learning model with the deep learning API <a href=\"https://www.tensorflow.org/guide/keras\"> Keras </a>. This machine learning model should be able to translate a given UI image into a hierarchie with semantic annotations specified on the homepage of the <a href=\"http://interactionmining.org/rico\">Rico</a> dataset. We create our model similar to the Work of Chunyang Chen, Ting Su, Guozhu Meng, Zhenchang Xing, and Yang Liu. 2018. <a href=\"https://chunyang-chen.github.io/publication/ui2code.pdf\">From UI Design Image to GUI Skeleton: A Neural Machine Translator to Bootstrap Mobile GUI Implementation</a>. </p>"
   ]
  },
  {
   "cell_type": "markdown",
   "metadata": {},
   "source": [
    " ## Import packages\n",
    " ### Dependencies\n",
    "- tensorflow\n",
    "- numpy\n",
    "- matplotlib\n",
    "- sklearn"
   ]
  },
  {
   "cell_type": "code",
   "execution_count": 1,
   "metadata": {},
   "outputs": [],
   "source": [
    "import tensorflow as tf\n",
    "import numpy as np\n",
    "import os\n",
    "import json\n",
    "import matplotlib.pyplot as plt\n",
    "import matplotlib.image as mpimg\n",
    "from PIL import Image\n",
    "import math\n",
    "import pickle"
   ]
  },
  {
   "cell_type": "code",
   "execution_count": 2,
   "metadata": {},
   "outputs": [],
   "source": [
    "from tensorflow.keras.applications.vgg16 import VGG16\n",
    "from tensorflow.keras.preprocessing.text import Tokenizer\n",
    "from sklearn.model_selection import train_test_split\n",
    "from tensorflow.keras.models import Model\n",
    "from tensorflow.keras.layers import Input, LSTM, Reshape, Dense, Embedding\n",
    "from tensorflow.keras import backend as K\n",
    "from tensorflow.keras.callbacks import ModelCheckpoint, TensorBoard"
   ]
  },
  {
   "cell_type": "markdown",
   "metadata": {},
   "source": [
    "## Load data (and optional: limit the size )\n",
    "We will use the <a href=\"http://interactionmining.org/rico\">Rico</a> Dataset containing visual, textual, structural, and interactive design properties of more than 66k unique UI screens. But for this task we only use the UI screenshots and a modified version of the UI hierarchies with semantic annotations. To speed up training you are free to use only a limited amount of UI images. <br>"
   ]
  },
  {
   "cell_type": "markdown",
   "metadata": {},
   "source": [
    "### Project tree\n",
    "\n",
    " * [Project Folder](./Project Folder)\n",
    "   * [semantic_annotations](./Project Folder/semantic_annotations) \n",
    "     * [0.json]\n",
    "     * [0.png]\n",
    "     ...\n",
    "   * [unique_uis](./Project Folder/unique_uis)\n",
    "     * [0.json]\n",
    "     * [0.jpg]\n",
    "     ...\n",
    "   * [notebookname.ipynb](./Project Folder/notebookname.ipynb)"
   ]
  },
  {
   "cell_type": "code",
   "execution_count": 3,
   "metadata": {},
   "outputs": [],
   "source": [
    "# Path to the UI screenshots\n",
    "uiImageFolder = \"/unique_uis/\"\n",
    "PathUIImages = os.path.abspath('.') + uiImageFolder\n",
    "\n",
    "# Path to the semantic annotations\n",
    "semanticAnnotations = \"/semantic_annotations/\"\n",
    "PathSemanticAnnotations = os.path.abspath('.') + semanticAnnotations\n",
    "\n",
    "# total amount of images and hierarchies\n",
    "totalAmount = 72218\n",
    "# Select the first 1500 UI images\n",
    "numExamples = 1500\n",
    "\n",
    "# Store UI screenshots and hierarchies with semantic annotations\n",
    "allUIs = []\n",
    "allSemanticAnnotations = []\n",
    "\n",
    "for x in range(min(numExamples, totalAmount)):\n",
    "    uiImagePath = PathUIImages + \"{}.jpg\".format(x)\n",
    "    semanticAnnotationPath = PathSemanticAnnotations + \"{}.json\".format(x)\n",
    "    \n",
    "    # check if both Paths exist if not dont add them\n",
    "    if os.path.exists(uiImagePath) and os.path.exists(semanticAnnotationPath):\n",
    "        allUIs.append(uiImagePath)\n",
    "        allSemanticAnnotations.append(semanticAnnotationPath)"
   ]
  },
  {
   "cell_type": "markdown",
   "metadata": {},
   "source": [
    "## Get the component hierarchies\n",
    "Now we just got the Paths to the UIs and the Paths to the hierarchies with semantic annotations as json. But we want the component hierarchie as a String. So we need to traverse the json objects to extract the component labels and if available the specific Class of an Icon or the the Text Button Class."
   ]
  },
  {
   "cell_type": "code",
   "execution_count": 4,
   "metadata": {},
   "outputs": [],
   "source": [
    "# filter the UI components from an \"AST\"(the hierarchies with semantic annotations as json) into Code with DFT \n",
    "# example: \"<start>WebView,Advertisement{WebView{WebView}}<end>\"\n",
    "uiComponentHierarchies = []\n",
    "\n",
    "# depth first traversal for json objects which extracts all component labels without whitespaces \n",
    "# and seperates each component with \" \"(also \",\", \"{\" and \"}\" are components) to better split the components\n",
    "def dft(jsonTree, components):\n",
    "    jsonTreeLen = len(jsonTree)-1\n",
    "    for index, child in enumerate(jsonTree):\n",
    "        if \"iconClass\" in child:\n",
    "            components +=  \"Icon(\" + child[\"iconClass\"].replace(\" \", \"\") + \")\"\n",
    "        elif \"textButtonClass\" in child:\n",
    "            components += \"TextButton(\" + child[\"textButtonClass\"].replace(\" \", \"\") + \")\"\n",
    "        else:\n",
    "            components += child[\"componentLabel\"].replace(\" \", \"\")\n",
    "            \n",
    "        if \"children\" in child:\n",
    "            components += \" { \" + dft(child[\"children\"], \"\") + \" } \"            \n",
    "            \n",
    "        if len(jsonTree) > 1 and index < jsonTreeLen:\n",
    "            components +=  \" , \"\n",
    "       \n",
    "    return components\n",
    "\n",
    "# use dft on every json object in our path list to get the component hierarchie \n",
    "for semanAnnot in allSemanticAnnotations:\n",
    "\n",
    "    # read the json file\n",
    "    with open(semanAnnot, \"r\", encoding=\"utf-8\") as f:\n",
    "        AST = json.load(f)[\"children\"]\n",
    "\n",
    "    # construct the UI Component hierarchie\n",
    "    uiCompHierarchie = \"<start> \" + dft(AST, \"\") + \" <end>\"\n",
    "\n",
    "    uiComponentHierarchies.append( uiCompHierarchie)\n"
   ]
  },
  {
   "cell_type": "code",
   "execution_count": 5,
   "metadata": {},
   "outputs": [
    {
     "data": {
      "text/plain": [
       "(1430, 1430)"
      ]
     },
     "execution_count": 5,
     "metadata": {},
     "output_type": "execute_result"
    }
   ],
   "source": [
    "len(allUIs), len(uiComponentHierarchies)"
   ]
  },
  {
   "cell_type": "markdown",
   "metadata": {},
   "source": [
    "## Understand the data\n",
    "To get more failiar with the data, here you see 3 examples of UI screenshots and the Component hierarchie and also with a picture visualizing the components and the Icons or TextButtons also sometimes belong to Classes like Icon(settings)."
   ]
  },
  {
   "cell_type": "code",
   "execution_count": 6,
   "metadata": {},
   "outputs": [
    {
     "data": {
      "image/png": "[encoded data removed]",
      "text/plain": [
       "<Figure size 432x288 with 1 Axes>"
      ]
     },
     "metadata": {
      "needs_background": "light"
     },
     "output_type": "display_data"
    },
    {
     "data": {
      "image/png": "[encoded data removed]",
      "text/plain": [
       "<Figure size 432x288 with 1 Axes>"
      ]
     },
     "metadata": {
      "needs_background": "light"
     },
     "output_type": "display_data"
    },
    {
     "name": "stdout",
     "output_type": "stream",
     "text": [
      "<start> Toolbar { Text , Icon(settings) }  , TextButton , TextButton , TextButton(history) , TextButton <end>\n"
     ]
    },
    {
     "data": {
      "image/png": "[encoded data removed]",
      "text/plain": [
       "<Figure size 432x288 with 1 Axes>"
      ]
     },
     "metadata": {
      "needs_background": "light"
     },
     "output_type": "display_data"
    },
    {
     "data": {
      "image/png": "[encoded data removed]",
      "text/plain": [
       "<Figure size 432x288 with 1 Axes>"
      ]
     },
     "metadata": {
      "needs_background": "light"
     },
     "output_type": "display_data"
    },
    {
     "name": "stdout",
     "output_type": "stream",
     "text": [
      "<start> Toolbar { Text , Icon(arrow_backward) , Icon(share) , Icon(arrow_backward) , Icon(arrow_forward) }  , WebView <end>\n"
     ]
    },
    {
     "data": {
      "image/png": "[encoded data removed]",
      "text/plain": [
       "<Figure size 432x288 with 1 Axes>"
      ]
     },
     "metadata": {
      "needs_background": "light"
     },
     "output_type": "display_data"
    },
    {
     "data": {
      "image/png": "[encoded data removed]",
      "text/plain": [
       "<Figure size 432x288 with 1 Axes>"
      ]
     },
     "metadata": {
      "needs_background": "light"
     },
     "output_type": "display_data"
    },
    {
     "name": "stdout",
     "output_type": "stream",
     "text": [
      "<start> Text , Toolbar { Text , Icon(arrow_backward) , Image }  , ListItem { Image , Text }  , ListItem { Image , Text }  , ListItem { Image , Text }  , ListItem { Image , Text }  , ListItem { Image }  , ListItem { Image }  <end>\n"
     ]
    }
   ],
   "source": [
    "def show_image(index):\n",
    "    img = mpimg.imread(allUIs[index])\n",
    "    imgplot = plt.imshow(img)\n",
    "    plt.show()\n",
    "    img = mpimg.imread(\"./semantic_annotations/{}.png\".format(index))\n",
    "    imgplot = plt.imshow(img)\n",
    "    plt.show()\n",
    "    print(uiComponentHierarchies[index])\n",
    "\n",
    "show_image(42)\n",
    "show_image(69)\n",
    "show_image(80)"
   ]
  },
  {
   "cell_type": "markdown",
   "metadata": {},
   "source": [
    "For convenience declare some variables we use."
   ]
  },
  {
   "cell_type": "code",
   "execution_count": 7,
   "metadata": {},
   "outputs": [],
   "source": [
    "batch_size = 32\n",
    "epochs = 10\n",
    "IMG_HEIGHT = 224\n",
    "IMG_WIDTH = 224"
   ]
  },
  {
   "cell_type": "markdown",
   "metadata": {},
   "source": [
    "## Pre-trained CNN (VGG16)\n",
    "\n",
    "We use the VGG16 model using the Keras API for our feature extraction by vision. This automatically downloads the required files if you don't have them already.\n",
    "This model was pretrained for classifiying images and has a convolutional part and a fully connected part. But we only use the convolutional part because we just want the resulting feature vectors."
   ]
  },
  {
   "cell_type": "markdown",
   "metadata": {},
   "source": [
    "First we write a helper function that loads and preprocesses images:"
   ]
  },
  {
   "cell_type": "code",
   "execution_count": 8,
   "metadata": {},
   "outputs": [],
   "source": [
    "def load_image(path, size=None):\n",
    "    img = Image.open(path)\n",
    "\n",
    "    # Resize image if desired.\n",
    "    if not size is None:\n",
    "        img = img.resize(size=size, resample=Image.LANCZOS)\n",
    "\n",
    "    # Convert image to numpy array.\n",
    "    img = np.array(img, dtype=\"float32\")\n",
    "\n",
    "    # Perform any preprocessing needed by InceptionV3 or others\n",
    "    img = tf.keras.applications.vgg16.preprocess_input(img)\n",
    "\n",
    "    return img"
   ]
  },
  {
   "cell_type": "code",
   "execution_count": 9,
   "metadata": {},
   "outputs": [],
   "source": [
    "image_model = VGG16(include_top=False, weights='imagenet', input_shape=(IMG_HEIGHT, IMG_WIDTH, 3))\n",
    "image_model.trainable = False"
   ]
  },
  {
   "cell_type": "code",
   "execution_count": 10,
   "metadata": {},
   "outputs": [
    {
     "name": "stdout",
     "output_type": "stream",
     "text": [
      "Model: \"vgg16\"\n",
      "_________________________________________________________________\n",
      "Layer (type)                 Output Shape              Param #   \n",
      "=================================================================\n",
      "input_1 (InputLayer)         [(None, 224, 224, 3)]     0         \n",
      "_________________________________________________________________\n",
      "block1_conv1 (Conv2D)        (None, 224, 224, 64)      1792      \n",
      "_________________________________________________________________\n",
      "block1_conv2 (Conv2D)        (None, 224, 224, 64)      36928     \n",
      "_________________________________________________________________\n",
      "block1_pool (MaxPooling2D)   (None, 112, 112, 64)      0         \n",
      "_________________________________________________________________\n",
      "block2_conv1 (Conv2D)        (None, 112, 112, 128)     73856     \n",
      "_________________________________________________________________\n",
      "block2_conv2 (Conv2D)        (None, 112, 112, 128)     147584    \n",
      "_________________________________________________________________\n",
      "block2_pool (MaxPooling2D)   (None, 56, 56, 128)       0         \n",
      "_________________________________________________________________\n",
      "block3_conv1 (Conv2D)        (None, 56, 56, 256)       295168    \n",
      "_________________________________________________________________\n",
      "block3_conv2 (Conv2D)        (None, 56, 56, 256)       590080    \n",
      "_________________________________________________________________\n",
      "block3_conv3 (Conv2D)        (None, 56, 56, 256)       590080    \n",
      "_________________________________________________________________\n",
      "block3_pool (MaxPooling2D)   (None, 28, 28, 256)       0         \n",
      "_________________________________________________________________\n",
      "block4_conv1 (Conv2D)        (None, 28, 28, 512)       1180160   \n",
      "_________________________________________________________________\n",
      "block4_conv2 (Conv2D)        (None, 28, 28, 512)       2359808   \n",
      "_________________________________________________________________\n",
      "block4_conv3 (Conv2D)        (None, 28, 28, 512)       2359808   \n",
      "_________________________________________________________________\n",
      "block4_pool (MaxPooling2D)   (None, 14, 14, 512)       0         \n",
      "_________________________________________________________________\n",
      "block5_conv1 (Conv2D)        (None, 14, 14, 512)       2359808   \n",
      "_________________________________________________________________\n",
      "block5_conv2 (Conv2D)        (None, 14, 14, 512)       2359808   \n",
      "_________________________________________________________________\n",
      "block5_conv3 (Conv2D)        (None, 14, 14, 512)       2359808   \n",
      "_________________________________________________________________\n",
      "block5_pool (MaxPooling2D)   (None, 7, 7, 512)         0         \n",
      "=================================================================\n",
      "Total params: 14,714,688\n",
      "Trainable params: 0\n",
      "Non-trainable params: 14,714,688\n",
      "_________________________________________________________________\n"
     ]
    }
   ],
   "source": [
    "image_model.summary()"
   ]
  },
  {
   "cell_type": "markdown",
   "metadata": {},
   "source": [
    "Show the layers of the model:"
   ]
  },
  {
   "cell_type": "code",
   "execution_count": 11,
   "metadata": {},
   "outputs": [
    {
     "data": {
      "text/plain": [
       "(224, 224)"
      ]
     },
     "execution_count": 11,
     "metadata": {},
     "output_type": "execute_result"
    }
   ],
   "source": [
    "img_size = K.int_shape(image_model.input)[1:3]\n",
    "img_size"
   ]
  },
  {
   "cell_type": "code",
   "execution_count": 12,
   "metadata": {},
   "outputs": [
    {
     "data": {
      "text/plain": [
       "(7, 7, 512)"
      ]
     },
     "execution_count": 12,
     "metadata": {},
     "output_type": "execute_result"
    }
   ],
   "source": [
    "cnn_output_size = K.int_shape(image_model.output)[1:4]\n",
    "cnn_output_size"
   ]
  },
  {
   "cell_type": "markdown",
   "metadata": {},
   "source": [
    "# Creating the dataset"
   ]
  },
  {
   "cell_type": "markdown",
   "metadata": {},
   "source": [
    "## Preprocess the images\n",
    "First we need to run all images through the CNN to encode these. The resulting feature map's of those will be used for training to create the hierarchie from the features of the images extracted from the VGG16 model."
   ]
  },
  {
   "cell_type": "code",
   "execution_count": 13,
   "metadata": {},
   "outputs": [],
   "source": [
    "def encode_img(img_path):\n",
    "    # load the image\n",
    "    img = load_image(img_path, img_size)\n",
    "    img = np.expand_dims(img, axis=0)\n",
    "    # Get the feature map for the image\n",
    "    img = image_model.predict(img)\n",
    "    return img[0]"
   ]
  },
  {
   "cell_type": "code",
   "execution_count": 14,
   "metadata": {},
   "outputs": [],
   "source": [
    "filename = \"encodedImages\"\n",
    "if not os.path.exists(filename):\n",
    "    encoding_img = []\n",
    "    for img_path in allUIs:\n",
    "        encoding_img.append(encode_img(img_path)) \n",
    "    with open(filename, \"wb\") as fp:\n",
    "        pickle.dump(encoding_img, fp)\n",
    "else:\n",
    "    with open(filename, \"rb\") as fp:\n",
    "        encoding_img = pickle.load(fp)"
   ]
  },
  {
   "cell_type": "markdown",
   "metadata": {},
   "source": [
    "## Tokenize the component hierarchies\n",
    "\n",
    "Because neural networks cannot process textual data we need to transform the component hierarchies. We need to convert text-words into so-called integer-tokens."
   ]
  },
  {
   "cell_type": "code",
   "execution_count": 15,
   "metadata": {},
   "outputs": [
    {
     "data": {
      "text/plain": [
       "{',': 1,\n",
       " 'Text': 2,\n",
       " '{': 3,\n",
       " '}': 4,\n",
       " 'Image': 5,\n",
       " 'ListItem': 6,\n",
       " 'TextButton': 7,\n",
       " '<start>': 8,\n",
       " '<end>': 9,\n",
       " 'Toolbar': 10,\n",
       " 'WebView': 11,\n",
       " 'Input': 12,\n",
       " 'Icon(arrow_backward)': 13,\n",
       " 'Advertisement': 14,\n",
       " 'Icon(more)': 15,\n",
       " 'Icon(menu)': 16,\n",
       " 'Icon(avatar)': 17,\n",
       " 'Card': 18,\n",
       " 'Icon(add)': 19,\n",
       " 'Icon(arrow_forward)': 20,\n",
       " 'Icon(search)': 21,\n",
       " 'Drawer': 22,\n",
       " 'BackgroundImage': 23,\n",
       " 'Icon(play)': 24,\n",
       " 'Icon(close)': 25,\n",
       " 'Icon(chat)': 26,\n",
       " 'RadioButton': 27,\n",
       " 'Checkbox': 28,\n",
       " 'Icon(star)': 29,\n",
       " 'Modal': 30,\n",
       " 'Multi-Tab': 31,\n",
       " 'Icon(share)': 32,\n",
       " 'PagerIndicator': 33,\n",
       " 'Icon(info)': 34,\n",
       " 'Icon(expand_more)': 35,\n",
       " 'TextButton(login)': 36,\n",
       " 'Icon(settings)': 37,\n",
       " 'Icon(favorite)': 38,\n",
       " 'Icon(check)': 39,\n",
       " 'Icon(home)': 40,\n",
       " 'Icon(facebook)': 41,\n",
       " 'On/OffSwitch': 42,\n",
       " 'Icon(date_range)': 43,\n",
       " 'Icon(emoji)': 44,\n",
       " 'Icon(help)': 45,\n",
       " 'Icon(refresh)': 46,\n",
       " 'Slider': 47,\n",
       " 'Icon(lock)': 48,\n",
       " 'Icon(sliders)': 49,\n",
       " 'TextButton(create)': 50,\n",
       " 'Icon(thumbs_up)': 51,\n",
       " 'Icon(time)': 52,\n",
       " 'Icon(thumbs_down)': 53,\n",
       " 'Icon(cart)': 54,\n",
       " 'Icon(visibility)': 55,\n",
       " 'Icon(bookmark)': 56,\n",
       " 'TextButton(ok)': 57,\n",
       " 'Icon(globe)': 58,\n",
       " 'Icon(switcher)': 59,\n",
       " 'Icon(location_crosshair)': 60,\n",
       " 'TextButton(back)': 61,\n",
       " 'Icon(wallpaper)': 62,\n",
       " 'TextButton(all)': 63,\n",
       " 'TextButton(menu)': 64,\n",
       " 'TextButton(facebook)': 65,\n",
       " 'TextButton(home)': 66,\n",
       " 'TextButton(sidedishes)': 67,\n",
       " 'Icon(list)': 68,\n",
       " 'Icon(microphone)': 69,\n",
       " 'MapView': 70,\n",
       " 'TextButton(more)': 71,\n",
       " 'Icon(filter_list)': 72,\n",
       " 'Icon(national_flag)': 73,\n",
       " 'TextButton(finish)': 74,\n",
       " 'Icon(location)': 75,\n",
       " 'TextButton(settings)': 76,\n",
       " 'Icon(group)': 77,\n",
       " 'Icon(email)': 78,\n",
       " 'Icon(file_download)': 79,\n",
       " 'TextButton(delete)': 80,\n",
       " 'Icon(minus)': 81,\n",
       " 'Icon(notifications)': 82,\n",
       " 'Icon(edit)': 83,\n",
       " 'Icon(pause)': 84,\n",
       " 'Icon(photo)': 85,\n",
       " 'Icon(book)': 86,\n",
       " 'TextButton(continue)': 87,\n",
       " 'Icon(bluetooth)': 88,\n",
       " 'TextButton(help)': 89,\n",
       " 'ButtonBar': 90,\n",
       " 'TextButton(share)': 91,\n",
       " 'TextButton(next)': 92,\n",
       " 'Icon(folder)': 93,\n",
       " 'TextButton(go)': 94,\n",
       " 'Icon(volume)': 95,\n",
       " 'TextButton(info)': 96,\n",
       " 'TextButton(breakfast)': 97,\n",
       " 'Icon(description)': 98,\n",
       " 'TextButton(close)': 99,\n",
       " 'TextButton(rate)': 100,\n",
       " 'TextButton(search)': 101,\n",
       " 'TextButton(appetizers)': 102,\n",
       " 'TextButton(history)': 103,\n",
       " 'Icon(weather)': 104,\n",
       " 'TextButton(profile)': 105,\n",
       " 'Icon(flight)': 106,\n",
       " 'Icon(expand_less)': 107,\n",
       " 'TextButton(delivery)': 108,\n",
       " 'Icon(arrow_upward)': 109,\n",
       " 'TextButton(about)': 110,\n",
       " 'TextButton(favorites)': 111,\n",
       " 'Icon(gift)': 112,\n",
       " 'NumberStepper': 113,\n",
       " 'TextButton(save)': 114,\n",
       " 'TextButton(past)': 115,\n",
       " 'TextButton(edit)': 116,\n",
       " 'Icon(layers)': 117,\n",
       " 'TextButton(message)': 118,\n",
       " 'TextButton(today)': 119,\n",
       " 'Icon(delete)': 120,\n",
       " 'TextButton(select)': 121,\n",
       " 'TextButton(business)': 122,\n",
       " 'Icon(arrow_downward)': 123,\n",
       " 'Icon(font)': 124,\n",
       " 'DatePicker': 125,\n",
       " 'TextButton(add)': 126,\n",
       " 'TextButton(feedback)': 127,\n",
       " 'TextButton(comment)': 128,\n",
       " 'Icon(swap)': 129,\n",
       " 'Icon(undo)': 130,\n",
       " 'Icon(follow)': 131,\n",
       " 'Icon(build)': 132,\n",
       " 'TextButton(download)': 133,\n",
       " 'TextButton(no)': 134,\n",
       " 'Icon(explore)': 135,\n",
       " 'Icon(shop)': 136,\n",
       " 'Icon(launch)': 137,\n",
       " 'Icon(send)': 138,\n",
       " 'TextButton(popular)': 139,\n",
       " 'TextButton(video)': 140,\n",
       " 'TextButton(unitedstates)': 141,\n",
       " 'TextButton(locations)': 142,\n",
       " 'Icon(copy)': 143,\n",
       " 'TextButton(agree)': 144,\n",
       " 'Icon(label)': 145,\n",
       " 'TextButton(find)': 146,\n",
       " 'TextButton(map)': 147,\n",
       " 'Video': 148,\n",
       " 'TextButton(justonce)': 149,\n",
       " 'TextButton(always)': 150,\n",
       " 'TextButton(email)': 151,\n",
       " 'TextButton(accept)': 152,\n",
       " 'Icon(twitter)': 153,\n",
       " 'Icon(playlist)': 154,\n",
       " 'TextButton(later)': 155,\n",
       " 'Icon(skip_previous)': 156,\n",
       " 'Icon(skip_next)': 157,\n",
       " 'Icon(save)': 158,\n",
       " 'Icon(fullscreen)': 159,\n",
       " 'TextButton(play)': 160,\n",
       " 'TextButton(skip)': 161,\n",
       " 'TextButton(previous)': 162,\n",
       " 'TextButton(buy)': 163,\n",
       " 'TextButton(list)': 164,\n",
       " 'Icon(compare)': 165,\n",
       " 'Icon(flash)': 166,\n",
       " 'TextButton(filter)': 167,\n",
       " 'TextButton(nearby)': 168,\n",
       " 'TextButton(music)': 169,\n",
       " 'TextButton(unlock)': 170,\n",
       " 'Icon(navigation)': 171,\n",
       " 'TextButton(faq)': 172,\n",
       " 'TextButton(show)': 173,\n",
       " 'TextButton(calendar)': 174,\n",
       " 'TextButton(options)': 175,\n",
       " 'TextButton(open)': 176,\n",
       " 'TextButton(male)': 177,\n",
       " 'TextButton(chat)': 178,\n",
       " 'TextButton(english)': 179,\n",
       " 'TextButton(post)': 180,\n",
       " 'Icon(repeat)': 181,\n",
       " 'TextButton(twitter)': 182,\n",
       " 'TextButton(install)': 183,\n",
       " 'TextButton(boy)': 184,\n",
       " 'TextButton(follow)': 185,\n",
       " 'TextButton(instructions)': 186,\n",
       " 'TextButton(termsofuse)': 187,\n",
       " 'Icon(av_forward)': 188,\n",
       " 'TextButton(rewards)': 189,\n",
       " 'TextButton(exercises)': 190,\n",
       " 'TextButton(premium)': 191,\n",
       " 'TextButton(female)': 192,\n",
       " 'TextButton(change)': 193,\n",
       " 'TextButton(girl)': 194,\n",
       " 'TextButton(preview)': 195,\n",
       " 'TextButton(roundtrip)': 196,\n",
       " 'TextButton(oneway)': 197,\n",
       " 'TextButton(other)': 198,\n",
       " 'Icon(music)': 199,\n",
       " 'TextButton(contacts)': 200,\n",
       " 'Icon(filter)': 201,\n",
       " 'TextButton(register)': 202,\n",
       " 'TextButton(notifications)': 203,\n",
       " 'Icon(dashboard)': 204,\n",
       " 'TextButton(gallery)': 205,\n",
       " 'TextButton(lockscreenweatherbanner)': 206,\n",
       " 'TextButton(contact)': 207,\n",
       " 'TextButton(normal)': 208,\n",
       " 'TextButton(satellite)': 209,\n",
       " 'TextButton(hybrid)': 210,\n",
       " 'Icon(call)': 211,\n",
       " 'TextButton(support)': 212,\n",
       " 'TextButton(retry)': 213,\n",
       " 'TextButton(check)': 214,\n",
       " 'TextButton(daily)': 215,\n",
       " 'TextButton(privacypolicy)': 216,\n",
       " 'TextButton(manual)': 217,\n",
       " 'TextButton(google)': 218,\n",
       " 'TextButton(news)': 219,\n",
       " 'Icon(dialpad)': 220,\n",
       " 'TextButton(schedule)': 221,\n",
       " 'TextButton(stop)': 222,\n",
       " 'Icon(power)': 223,\n",
       " 'TextButton(future)': 224,\n",
       " 'TextButton(price)': 225,\n",
       " 'TextButton(sound)': 226,\n",
       " 'TextButton(auto)': 227,\n",
       " 'TextButton(sort)': 228,\n",
       " 'TextButton(subscribe)': 229,\n",
       " 'TextButton(redeem)': 230,\n",
       " 'Icon(av_rewind)': 231,\n",
       " 'TextButton(call)': 232,\n",
       " 'TextButton(medium)': 233,\n",
       " 'TextButton(latin)': 234,\n",
       " 'TextButton(website)': 235,\n",
       " 'TextButton(unknown)': 236,\n",
       " 'TextButton(export)': 237,\n",
       " 'TextButton(default)': 238,\n",
       " 'TextButton(book)': 239,\n",
       " 'TextButton(both)': 240,\n",
       " 'Icon(history)': 241,\n",
       " 'Icon(reply)': 242,\n",
       " 'TextButton(connect)': 243,\n",
       " 'Icon(warning)': 244,\n",
       " 'TextButton(distance)': 245,\n",
       " 'TextButton(set)': 246,\n",
       " 'TextButton(color)': 247,\n",
       " 'Icon(redo)': 248,\n",
       " 'TextButton(logout)': 249,\n",
       " 'Icon(zoom_out)': 250,\n",
       " 'Icon(videocam)': 251,\n",
       " 'Icon(attach_file)': 252,\n",
       " 'TextButton(spanish)': 253,\n",
       " 'TextButton(shopnow)': 254,\n",
       " '<pad>': 0}"
      ]
     },
     "execution_count": 15,
     "metadata": {},
     "output_type": "execute_result"
    }
   ],
   "source": [
    "tokenizer = Tokenizer(filters=\"\", lower=False)\n",
    "tokenizer.fit_on_texts(uiComponentHierarchies)\n",
    "tokenizer.word_index['<pad>'] = 0\n",
    "tokenizer.index_word[0] = '<pad>'\n",
    "tokenizer.word_index"
   ]
  },
  {
   "cell_type": "code",
   "execution_count": 16,
   "metadata": {},
   "outputs": [
    {
     "data": {
      "text/plain": [
       "255"
      ]
     },
     "execution_count": 16,
     "metadata": {},
     "output_type": "execute_result"
    }
   ],
   "source": [
    "vocab_size = len(tokenizer.word_index)\n",
    "vocab_size"
   ]
  },
  {
   "cell_type": "code",
   "execution_count": 17,
   "metadata": {},
   "outputs": [],
   "source": [
    "# Create tokenized vectors\n",
    "token_hierarchies = tokenizer.texts_to_sequences(uiComponentHierarchies)"
   ]
  },
  {
   "cell_type": "code",
   "execution_count": 18,
   "metadata": {},
   "outputs": [],
   "source": [
    "# Find the maximum length of any hierarchie in our dataset\n",
    "def calc_max_length(tensor):\n",
    "    return max(len(t) for t in tensor)"
   ]
  },
  {
   "cell_type": "code",
   "execution_count": 19,
   "metadata": {},
   "outputs": [
    {
     "data": {
      "text/plain": [
       "244"
      ]
     },
     "execution_count": 19,
     "metadata": {},
     "output_type": "execute_result"
    }
   ],
   "source": [
    "max_length = calc_max_length(token_hierarchies)\n",
    "max_length"
   ]
  },
  {
   "cell_type": "markdown",
   "metadata": {},
   "source": [
    "Create dictionary with image Paths and corresponding token hierarchies."
   ]
  },
  {
   "cell_type": "code",
   "execution_count": 20,
   "metadata": {},
   "outputs": [],
   "source": [
    "# Create training and validation sets using an 80-20 split\n",
    "fm_train, fm_val, hier_train, hier_val = train_test_split(encoding_img, token_hierarchies, test_size=0.2, random_state=0)\n",
    "\n",
    "dataset_train = list(zip(fm_train, hier_train))\n",
    "dataset_val = list(zip(fm_val, hier_val))"
   ]
  },
  {
   "cell_type": "code",
   "execution_count": 57,
   "metadata": {},
   "outputs": [
    {
     "name": "stdout",
     "output_type": "stream",
     "text": [
      "Length Training dataset\n",
      "1144\n",
      "Length Validation dataset\n",
      "286\n"
     ]
    }
   ],
   "source": [
    "print(\"Length Training dataset\")\n",
    "print(len(fm_train))\n",
    "print(\"Length Validation dataset\")\n",
    "print(len(fm_val))"
   ]
  },
  {
   "cell_type": "markdown",
   "metadata": {},
   "source": [
    "## Data Generator\n",
    "Because we train our model to generate the next token given a sequence and a feature map of an image, we normally would need to save the feature map of an image for each timestep the hierarchie is in. This would need a lot more space which can be avoided by using a so called data generator. The data generator can then be used to construct our dataset in batches so we dont need to fit the whole dataset with multiple hierarchies per image into memory at once."
   ]
  },
  {
   "cell_type": "code",
   "execution_count": 21,
   "metadata": {},
   "outputs": [],
   "source": [
    "def data_generator(dataset, batch_size=batch_size, dim=img_size, n_channels=3,\n",
    "                 n_classes=vocab_size):\n",
    "    # x1 - Image batch\n",
    "    # x2 - The hierarchie\n",
    "    # y - The predicted hierarchie\n",
    "    x1, x2, y = [], [], []\n",
    "    n=0\n",
    "    while True:\n",
    "        for feature_map, hierarchie in dataset:\n",
    "            for i in range(1, len(hierarchie)):\n",
    "                n+=1\n",
    "                in_hier, out_hier = hierarchie[:i], hierarchie[i]\n",
    "                in_hier = tf.keras.preprocessing.sequence.pad_sequences([in_hier], maxlen=max_length, padding='post')[0]\n",
    "                out_hier = tf.keras.utils.to_categorical([out_hier], num_classes=vocab_size)[0]\n",
    "                x1.append(feature_map)\n",
    "                x2.append(in_hier)\n",
    "                y.append(out_hier)\n",
    "                if n==batch_size:\n",
    "                    yield ([np.array(x1), np.array(x2)], np.array(y))\n",
    "                    x1, x2, y = [], [], []\n",
    "                    n=0"
   ]
  },
  {
   "cell_type": "code",
   "execution_count": 22,
   "metadata": {},
   "outputs": [],
   "source": [
    "training_generator = data_generator(dataset_train)\n",
    "validation_generator = data_generator(dataset_val)"
   ]
  },
  {
   "cell_type": "code",
   "execution_count": 23,
   "metadata": {},
   "outputs": [
    {
     "data": {
      "text/plain": [
       "8723"
      ]
     },
     "execution_count": 23,
     "metadata": {},
     "output_type": "execute_result"
    }
   ],
   "source": [
    "steps_train = (len(dataset_train) * max_length) // batch_size\n",
    "steps_train"
   ]
  },
  {
   "cell_type": "code",
   "execution_count": 24,
   "metadata": {},
   "outputs": [
    {
     "data": {
      "text/plain": [
       "2180"
      ]
     },
     "execution_count": 24,
     "metadata": {},
     "output_type": "execute_result"
    }
   ],
   "source": [
    "steps_val = (len(dataset_val) * max_length) // batch_size\n",
    "steps_val"
   ]
  },
  {
   "cell_type": "markdown",
   "metadata": {},
   "source": [
    "The training data has the form:"
   ]
  },
  {
   "cell_type": "code",
   "execution_count": 25,
   "metadata": {},
   "outputs": [],
   "source": [
    "data = []     # store all the generated data batches\n",
    "labels = []   # store all the generated label batches\n",
    "max_iter = 1  # maximum number of iterations, in each iteration one batch is generated; the proper value depends on batch size and size of whole data\n",
    "i = 0\n",
    "for d, l in training_generator:\n",
    "    data.append(d)\n",
    "    labels.append(l)\n",
    "    i += 1\n",
    "    if i == max_iter:\n",
    "        break"
   ]
  },
  {
   "cell_type": "code",
   "execution_count": 26,
   "metadata": {},
   "outputs": [
    {
     "name": "stdout",
     "output_type": "stream",
     "text": [
      "Generator model input:\n",
      "image input\n",
      "[[[0.        0.        0.        ... 0.        0.        0.       ]\n",
      "  [0.        0.        0.        ... 0.        0.        0.       ]\n",
      "  [0.        0.        0.        ... 0.        0.        0.       ]\n",
      "  ...\n",
      "  [0.        0.        0.        ... 0.        0.        0.       ]\n",
      "  [0.        0.        0.        ... 0.        0.        0.       ]\n",
      "  [0.        0.        0.        ... 0.        0.        0.       ]]\n",
      "\n",
      " [[0.        0.        0.        ... 0.        0.        0.       ]\n",
      "  [0.        0.        0.        ... 0.        0.        0.       ]\n",
      "  [0.        0.        0.        ... 0.        0.        0.       ]\n",
      "  ...\n",
      "  [0.        0.        0.        ... 0.        0.        0.       ]\n",
      "  [0.        0.        0.        ... 0.        0.        0.       ]\n",
      "  [0.        0.        0.        ... 0.        0.        0.       ]]\n",
      "\n",
      " [[0.        0.        0.        ... 0.        0.        0.       ]\n",
      "  [0.        0.        0.        ... 0.        0.        0.       ]\n",
      "  [0.        0.        0.        ... 0.        0.        0.       ]\n",
      "  ...\n",
      "  [0.        0.        0.        ... 0.        0.        0.       ]\n",
      "  [0.        0.        0.        ... 0.        0.        0.       ]\n",
      "  [0.        0.        0.        ... 0.        0.        0.       ]]\n",
      "\n",
      " ...\n",
      "\n",
      " [[0.        0.        0.        ... 0.        0.        0.       ]\n",
      "  [0.        0.        0.        ... 0.        0.        0.       ]\n",
      "  [0.        0.        0.        ... 0.        0.        0.       ]\n",
      "  ...\n",
      "  [0.        0.        0.        ... 0.        0.        0.       ]\n",
      "  [0.        0.        0.        ... 0.        0.        0.       ]\n",
      "  [0.        0.        0.        ... 0.        0.        0.       ]]\n",
      "\n",
      " [[0.        0.        0.        ... 0.        0.        0.       ]\n",
      "  [0.        0.        0.        ... 0.        0.        0.       ]\n",
      "  [0.        0.        0.        ... 0.        0.        0.       ]\n",
      "  ...\n",
      "  [0.        0.        0.        ... 0.        1.5163879 0.       ]\n",
      "  [0.        0.        0.        ... 0.        0.        0.       ]\n",
      "  [0.        0.        0.        ... 0.        0.        0.       ]]\n",
      "\n",
      " [[0.        0.        0.        ... 0.        0.        0.       ]\n",
      "  [0.        0.        0.        ... 0.        0.        0.       ]\n",
      "  [0.        0.        0.        ... 0.        0.        0.       ]\n",
      "  ...\n",
      "  [0.        0.        0.        ... 0.        0.        0.       ]\n",
      "  [0.        0.        0.        ... 0.        0.        0.       ]\n",
      "  [0.        0.        0.        ... 0.        0.        0.       ]]]\n",
      "decoder input\n",
      "[8 0 0 0 0 0 0 0 0 0 0 0 0 0 0 0 0 0 0 0 0 0 0 0 0 0 0 0 0 0 0 0 0 0 0 0 0\n",
      " 0 0 0 0 0 0 0 0 0 0 0 0 0 0 0 0 0 0 0 0 0 0 0 0 0 0 0 0 0 0 0 0 0 0 0 0 0\n",
      " 0 0 0 0 0 0 0 0 0 0 0 0 0 0 0 0 0 0 0 0 0 0 0 0 0 0 0 0 0 0 0 0 0 0 0 0 0\n",
      " 0 0 0 0 0 0 0 0 0 0 0 0 0 0 0 0 0 0 0 0 0 0 0 0 0 0 0 0 0 0 0 0 0 0 0 0 0\n",
      " 0 0 0 0 0 0 0 0 0 0 0 0 0 0 0 0 0 0 0 0 0 0 0 0 0 0 0 0 0 0 0 0 0 0 0 0 0\n",
      " 0 0 0 0 0 0 0 0 0 0 0 0 0 0 0 0 0 0 0 0 0 0 0 0 0 0 0 0 0 0 0 0 0 0 0 0 0\n",
      " 0 0 0 0 0 0 0 0 0 0 0 0 0 0 0 0 0 0 0 0 0 0]\n",
      "------------------\n",
      "Generator model output:\n",
      "[0. 0. 0. 0. 0. 0. 0. 0. 0. 0. 0. 0. 0. 0. 0. 0. 0. 0. 0. 0. 0. 0. 0. 0.\n",
      " 0. 0. 0. 0. 0. 0. 0. 0. 0. 0. 0. 0. 0. 0. 0. 0. 0. 0. 0. 0. 0. 0. 0. 0.\n",
      " 0. 0. 0. 0. 0. 0. 0. 0. 0. 0. 0. 0. 0. 0. 0. 0. 0. 0. 0. 0. 0. 0. 0. 0.\n",
      " 0. 0. 1. 0. 0. 0. 0. 0. 0. 0. 0. 0. 0. 0. 0. 0. 0. 0. 0. 0. 0. 0. 0. 0.\n",
      " 0. 0. 0. 0. 0. 0. 0. 0. 0. 0. 0. 0. 0. 0. 0. 0. 0. 0. 0. 0. 0. 0. 0. 0.\n",
      " 0. 0. 0. 0. 0. 0. 0. 0. 0. 0. 0. 0. 0. 0. 0. 0. 0. 0. 0. 0. 0. 0. 0. 0.\n",
      " 0. 0. 0. 0. 0. 0. 0. 0. 0. 0. 0. 0. 0. 0. 0. 0. 0. 0. 0. 0. 0. 0. 0. 0.\n",
      " 0. 0. 0. 0. 0. 0. 0. 0. 0. 0. 0. 0. 0. 0. 0. 0. 0. 0. 0. 0. 0. 0. 0. 0.\n",
      " 0. 0. 0. 0. 0. 0. 0. 0. 0. 0. 0. 0. 0. 0. 0. 0. 0. 0. 0. 0. 0. 0. 0. 0.\n",
      " 0. 0. 0. 0. 0. 0. 0. 0. 0. 0. 0. 0. 0. 0. 0. 0. 0. 0. 0. 0. 0. 0. 0. 0.\n",
      " 0. 0. 0. 0. 0. 0. 0. 0. 0. 0. 0. 0. 0. 0. 0.]\n"
     ]
    }
   ],
   "source": [
    "print(\"Generator model input:\")\n",
    "print(\"image input\")\n",
    "print(data[0][0][0])\n",
    "print(\"decoder input\")\n",
    "print(data[0][1][0])\n",
    "print(\"------------------\")\n",
    "print(\"Generator model output:\")\n",
    "print(labels[0][0])"
   ]
  },
  {
   "cell_type": "markdown",
   "metadata": {},
   "source": [
    "## Create the Recurrent Neural Network\n",
    "We will now create the Model with LSTMs which will be trained to map the feature vectors from the image recognition model and the sequence computed so far into a probability distribution over the vocabulary to get a prediction for the next token in the hierarchie. "
   ]
  },
  {
   "cell_type": "markdown",
   "metadata": {},
   "source": [
    "The encoder and decoder consists of an LSTM whose internal state size is:"
   ]
  },
  {
   "cell_type": "code",
   "execution_count": 27,
   "metadata": {},
   "outputs": [],
   "source": [
    "state_size = 256\n",
    "\n",
    "feature_vector_length =  cnn_output_size[2]\n",
    "number_feature_vectors = cnn_output_size[0] * cnn_output_size[1]"
   ]
  },
  {
   "cell_type": "markdown",
   "metadata": {},
   "source": [
    "### Encoder:"
   ]
  },
  {
   "cell_type": "code",
   "execution_count": 28,
   "metadata": {},
   "outputs": [],
   "source": [
    "# Expect as input a feature map from the last pooling layer of our CNN the VGG16 model\n",
    "encoder_input = Input(shape=cnn_output_size)\n",
    "# transform the feature map from the feature extraction cnn into an array of feature vectors for the LSTM\n",
    "encoder_input_cnn = Reshape((number_feature_vectors, feature_vector_length))\n",
    "encoder_outputs = encoder_input_cnn(encoder_input)\n",
    "\n",
    "encoder = LSTM(state_size, return_state=True)\n",
    "encoder_outputs, state_h, state_c = encoder(encoder_outputs)\n",
    "\n",
    "# We discard `encoder_outputs` and only keep the states.\n",
    "encoder_states = [state_h, state_c]"
   ]
  },
  {
   "cell_type": "markdown",
   "metadata": {},
   "source": [
    "### Decoder"
   ]
  },
  {
   "cell_type": "code",
   "execution_count": 29,
   "metadata": {},
   "outputs": [],
   "source": [
    "# Set up the decoder, using `encoder_states` as initial state.\n",
    "decoder_inputs = Input(shape=(None,))\n",
    "# This is the embedding layer which converts sequences of integer-tokens to sequences of vectors.\n",
    "decoder_embedding = Embedding(input_dim=vocab_size, output_dim=128)\n",
    "embedd_outputs = decoder_embedding(decoder_inputs)\n",
    "decoder_lstm = LSTM(state_size, input_shape=(vocab_size,))\n",
    "decoder_outputs = decoder_lstm(embedd_outputs,\n",
    "                                     initial_state=encoder_states)\n",
    "#convert LSTM output with shape [batch_size, state_size] into sequence of tokens\n",
    "decoder_dense = Dense(vocab_size, activation='softmax')\n",
    "decoder_outputs = decoder_dense(decoder_outputs)"
   ]
  },
  {
   "cell_type": "markdown",
   "metadata": {},
   "source": [
    "## Model"
   ]
  },
  {
   "cell_type": "code",
   "execution_count": 30,
   "metadata": {},
   "outputs": [],
   "source": [
    "# Define the model that will turn\n",
    "# `image_model inputs` & `decoder_input_data` into `decoder_target_data`\n",
    "model = Model([encoder_input, decoder_inputs], decoder_outputs)"
   ]
  },
  {
   "cell_type": "markdown",
   "metadata": {},
   "source": [
    "### Compile the Model\n",
    "The output of the decoder is a one-hot encoded vector. In order to train the decoder we need to supply the one-hot encoded vector that we desire to see on the decoder's output at each step, and then use a loss-function like cross-entropy to train the decoder to produce this desired output."
   ]
  },
  {
   "cell_type": "code",
   "execution_count": 31,
   "metadata": {},
   "outputs": [],
   "source": [
    "model.compile(optimizer='rmsprop', loss='categorical_crossentropy',\n",
    "              metrics=['accuracy'])"
   ]
  },
  {
   "cell_type": "code",
   "execution_count": 32,
   "metadata": {},
   "outputs": [
    {
     "name": "stdout",
     "output_type": "stream",
     "text": [
      "Model: \"functional_1\"\n",
      "__________________________________________________________________________________________________\n",
      "Layer (type)                    Output Shape         Param #     Connected to                     \n",
      "==================================================================================================\n",
      "input_2 (InputLayer)            [(None, 7, 7, 512)]  0                                            \n",
      "__________________________________________________________________________________________________\n",
      "input_3 (InputLayer)            [(None, None)]       0                                            \n",
      "__________________________________________________________________________________________________\n",
      "reshape (Reshape)               (None, 49, 512)      0           input_2[0][0]                    \n",
      "__________________________________________________________________________________________________\n",
      "embedding (Embedding)           (None, None, 128)    32640       input_3[0][0]                    \n",
      "__________________________________________________________________________________________________\n",
      "lstm (LSTM)                     [(None, 256), (None, 787456      reshape[0][0]                    \n",
      "__________________________________________________________________________________________________\n",
      "lstm_1 (LSTM)                   (None, 256)          394240      embedding[0][0]                  \n",
      "                                                                 lstm[0][1]                       \n",
      "                                                                 lstm[0][2]                       \n",
      "__________________________________________________________________________________________________\n",
      "dense (Dense)                   (None, 255)          65535       lstm_1[0][0]                     \n",
      "==================================================================================================\n",
      "Total params: 1,279,871\n",
      "Trainable params: 1,279,871\n",
      "Non-trainable params: 0\n",
      "__________________________________________________________________________________________________\n"
     ]
    }
   ],
   "source": [
    "model.summary()"
   ]
  },
  {
   "cell_type": "markdown",
   "metadata": {},
   "source": [
    "## Callback Function\n",
    "During training we want to save checkpoints and log the progress to TensorBoard so we create the appropriate callbacks for Keras."
   ]
  },
  {
   "cell_type": "code",
   "execution_count": 33,
   "metadata": {},
   "outputs": [],
   "source": [
    "path_checkpoint = 'UI_image2SemanticHierarchie_checkpoint.keras'\n",
    "callback_checkpoint = ModelCheckpoint(filepath=path_checkpoint)\n",
    "\n",
    "\n",
    "# callback for TensorBoard\n",
    "callback_tensorboard = TensorBoard(log_dir='./UI_image2SemanticHierarchie_logs/')\n",
    "\n",
    "\n",
    "callbacks = [callback_checkpoint, callback_tensorboard]"
   ]
  },
  {
   "cell_type": "markdown",
   "metadata": {},
   "source": [
    "## Load Checkpoint"
   ]
  },
  {
   "cell_type": "code",
   "execution_count": null,
   "metadata": {},
   "outputs": [],
   "source": [
    "try:\n",
    "    model.load_weights(path_checkpoint)\n",
    "except Exception as error:\n",
    "    print(\"Error trying to load checkpoint.\")\n",
    "    print(error)"
   ]
  },
  {
   "cell_type": "markdown",
   "metadata": {},
   "source": [
    "### Train the model"
   ]
  },
  {
   "cell_type": "code",
   "execution_count": 34,
   "metadata": {},
   "outputs": [
    {
     "name": "stdout",
     "output_type": "stream",
     "text": [
      "Epoch 1/10\n",
      "   1/8723 [..............................] - ETA: 0s - loss: 5.5432 - accuracy: 0.0000e+00WARNING:tensorflow:From c:\\users\\eendr\\appdata\\local\\programs\\python\\python38\\lib\\site-packages\\tensorflow\\python\\ops\\summary_ops_v2.py:1277: stop (from tensorflow.python.eager.profiler) is deprecated and will be removed after 2020-07-01.\n",
      "Instructions for updating:\n",
      "use `tf.profiler.experimental.stop` instead.\n",
      "8723/8723 [==============================] - 7174s 822ms/step - loss: 2.4949 - accuracy: 0.3464 - val_loss: 2.5010 - val_accuracy: 0.3498\n",
      "Epoch 2/10\n",
      "8723/8723 [==============================] - 7137s 818ms/step - loss: 1.9845 - accuracy: 0.4803 - val_loss: 1.7747 - val_accuracy: 0.5839\n",
      "Epoch 3/10\n",
      "8723/8723 [==============================] - 7164s 821ms/step - loss: 1.3601 - accuracy: 0.6679 - val_loss: 1.3689 - val_accuracy: 0.6838\n",
      "Epoch 4/10\n",
      "8723/8723 [==============================] - 7129s 817ms/step - loss: 1.2104 - accuracy: 0.7089 - val_loss: 1.2854 - val_accuracy: 0.7179\n",
      "Epoch 5/10\n",
      "8723/8723 [==============================] - 7197s 825ms/step - loss: 1.1714 - accuracy: 0.7367 - val_loss: 1.2927 - val_accuracy: 0.7281\n",
      "Epoch 6/10\n",
      "8723/8723 [==============================] - 7238s 830ms/step - loss: 1.1223 - accuracy: 0.7551 - val_loss: 1.2481 - val_accuracy: 0.7357\n",
      "Epoch 7/10\n",
      "8723/8723 [==============================] - 7198s 825ms/step - loss: 1.2172 - accuracy: 0.7518 - val_loss: 1.2522 - val_accuracy: 0.7304\n",
      "Epoch 8/10\n",
      "8723/8723 [==============================] - 7120s 816ms/step - loss: 1.0327 - accuracy: 0.7851 - val_loss: 1.2975 - val_accuracy: 0.7308\n",
      "Epoch 9/10\n",
      "8723/8723 [==============================] - 7188s 824ms/step - loss: 1.0250 - accuracy: 0.7915 - val_loss: 1.2929 - val_accuracy: 0.7372\n",
      "Epoch 10/10\n",
      "8723/8723 [==============================] - 7842s 899ms/step - loss: 0.9706 - accuracy: 0.8036 - val_loss: 1.3778 - val_accuracy: 0.7279\n"
     ]
    },
    {
     "data": {
      "text/plain": [
       "<tensorflow.python.keras.callbacks.History at 0x29a01327730>"
      ]
     },
     "execution_count": 34,
     "metadata": {},
     "output_type": "execute_result"
    }
   ],
   "source": [
    "# Run training\n",
    "model.fit(training_generator, \n",
    "          epochs=epochs,\n",
    "          steps_per_epoch = steps_train,\n",
    "          validation_data = validation_generator,\n",
    "          validation_steps = steps_val,\n",
    "          callbacks=callbacks)"
   ]
  },
  {
   "cell_type": "markdown",
   "metadata": {},
   "source": [
    "## Generate Component Hierarchie and Evaluate the Model\n",
    "This Function generates the component hierarchie of an UI image with the trained model."
   ]
  },
  {
   "cell_type": "code",
   "execution_count": 35,
   "metadata": {},
   "outputs": [],
   "source": [
    "token_start = tokenizer.word_index[\"<start>\"]\n",
    "token_end = tokenizer.word_index[\"<end>\"]"
   ]
  },
  {
   "cell_type": "code",
   "execution_count": 40,
   "metadata": {},
   "outputs": [],
   "source": [
    "def generateSemanticHierarchie(image_path):\n",
    "    feature_map = encode_img(image_path)\n",
    "    feature_map = np.expand_dims(feature_map, axis=0)\n",
    "    in_hierarchie = \"<start>\"\n",
    "    for i in range(max_length):\n",
    "        sequence = [tokenizer.word_index[t] for t in in_hierarchie.split()]\n",
    "        sequence = tf.keras.preprocessing.sequence.pad_sequences([sequence], maxlen=max_length, padding='post')\n",
    "        token_int = model.predict([feature_map,sequence])[0]\n",
    "        token_int = np.argmax(token_int)\n",
    "        word = tokenizer.index_word[token_int]\n",
    "        in_hierarchie += ' ' + word\n",
    "        if word == \"<end>\":\n",
    "            break\n",
    "    final = in_hierarchie.split()\n",
    "    final = final[1:-1]\n",
    "    final = ' '.join(final)\n",
    "    return final"
   ]
  },
  {
   "cell_type": "code",
   "execution_count": 76,
   "metadata": {},
   "outputs": [
    {
     "name": "stderr",
     "output_type": "stream",
     "text": [
      "Clipping input data to the valid range for imshow with RGB data ([0..1] for floats or [0..255] for integers).\n"
     ]
    },
    {
     "data": {
      "image/png": "[encoded data removed]",
      "text/plain": [
       "<Figure size 432x288 with 1 Axes>"
      ]
     },
     "metadata": {
      "needs_background": "light"
     },
     "output_type": "display_data"
    },
    {
     "name": "stdout",
     "output_type": "stream",
     "text": [
      "Predicted hierarchie:\n",
      "Toolbar { Icon(avatar) , Icon(menu) , Image , Text } , Multi-Tab { TextButton , TextButton , TextButton , TextButton , TextButton , TextButton , TextButton } , ListItem { TextButton , TextButton , TextButton , TextButton , TextButton , TextButton , TextButton } , ListItem { TextButton , TextButton , TextButton , TextButton , TextButton , TextButton , TextButton } , ListItem { TextButton , TextButton , TextButton , TextButton , TextButton , TextButton , TextButton } , ListItem { TextButton , TextButton , TextButton , TextButton , TextButton , TextButton , TextButton } , ListItem { TextButton , TextButton , TextButton , TextButton , TextButton , TextButton , TextButton } , ListItem { TextButton , TextButton , TextButton , TextButton , TextButton , TextButton , TextButton }\n",
      "\n",
      "\n",
      "Original Hierarchie:\n",
      "Toolbar { Icon(microphone) , Icon(menu) , Image , Text , Text , Image }  , Advertisement { WebView { WebView }  }  , TextButton , Text , TextButton(next) , Text , Text , Text , Text , Text , Text , TextButton , Text , Text , TextButton(more)\n"
     ]
    }
   ],
   "source": [
    "imageId = 22234\n",
    "uiImageFolder = \"/unique_uis/\"\n",
    "pathImage = os.path.abspath('.') + uiImageFolder + \"{}.jpg\".format(imageId)\n",
    "semanticAnnotations = \"/semantic_annotations/\"\n",
    "PathSemanticAnnotations = os.path.abspath('.') + semanticAnnotations + \"{}.json\".format(imageId)\n",
    "    \n",
    "if os.path.exists(pathImage) and os.path.exists(PathSemanticAnnotations):\n",
    "    image = load_image(pathImage)\n",
    "    # Plot the image.\n",
    "    plt.imshow(image)\n",
    "    plt.show()\n",
    "    \n",
    "    # read the json file\n",
    "    with open(PathSemanticAnnotations, \"r\", encoding=\"utf-8\") as f:\n",
    "        AST = json.load(f)[\"children\"]\n",
    "    # construct the UI Component hierarchie\n",
    "    uiCompHierarchie =  dft(AST, \"\")\n",
    "    \n",
    "    # Print the predicted hierarchie.\n",
    "    print(\"Predicted hierarchie:\")\n",
    "    print(generateSemanticHierarchie(pathImage))\n",
    "    print(\"\\n\")\n",
    "    # Print the original hierarchie\n",
    "    print(\"Original Hierarchie:\")\n",
    "    print(uiCompHierarchie)"
   ]
  },
  {
   "cell_type": "markdown",
   "metadata": {},
   "source": [
    "## Analyse Model with Tensorboard "
   ]
  },
  {
   "cell_type": "code",
   "execution_count": 47,
   "metadata": {},
   "outputs": [],
   "source": [
    "%load_ext tensorboard"
   ]
  },
  {
   "cell_type": "code",
   "execution_count": 49,
   "metadata": {},
   "outputs": [
    {
     "data": {
      "text/plain": [
       "Reusing TensorBoard on port 6006 (pid 3848), started 0:00:55 ago. (Use '!kill 3848' to kill it.)"
      ]
     },
     "metadata": {},
     "output_type": "display_data"
    },
    {
     "data": {
      "text/html": [
       "\n",
       "      <iframe id=\"tensorboard-frame-e7e152b578d658de\" width=\"100%\" height=\"800\" frameborder=\"0\">\n",
       "      </iframe>\n",
       "      <script>\n",
       "        (function() {\n",
       "          const frame = document.getElementById(\"tensorboard-frame-e7e152b578d658de\");\n",
       "          const url = new URL(\"/\", window.location);\n",
       "          const port = 6006;\n",
       "          if (port) {\n",
       "            url.port = port;\n",
       "          }\n",
       "          frame.src = url;\n",
       "        })();\n",
       "      </script>\n",
       "    "
      ],
      "text/plain": [
       "<IPython.core.display.HTML object>"
      ]
     },
     "metadata": {},
     "output_type": "display_data"
    }
   ],
   "source": [
    "%tensorboard --logdir UI_image2SemanticHierarchie_logs"
   ]
  },
  {
   "cell_type": "code",
   "execution_count": null,
   "metadata": {},
   "outputs": [],
   "source": []
  }
 ],
 "metadata": {
  "kernelspec": {
   "display_name": "Python 3",
   "language": "python",
   "name": "python3"
  },
  "language_info": {
   "codemirror_mode": {
    "name": "ipython",
    "version": 3
   },
   "file_extension": ".py",
   "mimetype": "text/x-python",
   "name": "python",
   "nbconvert_exporter": "python",
   "pygments_lexer": "ipython3",
   "version": "3.8.5"
  }
 },
 "nbformat": 4,
 "nbformat_minor": 4
}
